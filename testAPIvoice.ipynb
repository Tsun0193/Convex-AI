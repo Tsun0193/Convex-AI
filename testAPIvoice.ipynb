{
 "cells": [
  {
   "cell_type": "code",
   "execution_count": 1,
   "metadata": {},
   "outputs": [],
   "source": [
    "import torch\n",
    "import pandas as pd\n",
    "import numpy as np\n",
    "import os\n",
    "import warnings\n",
    "\n",
    "from transformers import AutoProcessor, AutoModelForSpeechSeq2Seq\n",
    "import torchaudio\n",
    "import torchaudio.functional as F\n",
    "import torchaudio.transforms as T\n",
    "import soundfile\n",
    "import librosa"
   ]
  },
  {
   "cell_type": "code",
   "execution_count": 2,
   "metadata": {},
   "outputs": [
    {
     "name": "stderr",
     "output_type": "stream",
     "text": [
      "Special tokens have been added in the vocabulary, make sure the associated word embeddings are fine-tuned or trained.\n"
     ]
    }
   ],
   "source": [
    "processor = AutoProcessor.from_pretrained(\"openai/whisper-tiny\")\n",
    "model = AutoModelForSpeechSeq2Seq.from_pretrained(\"openai/whisper-tiny\")"
   ]
  },
  {
   "cell_type": "code",
   "execution_count": 3,
   "metadata": {},
   "outputs": [
    {
     "data": {
      "text/plain": [
       "device(type='cuda')"
      ]
     },
     "execution_count": 3,
     "metadata": {},
     "output_type": "execute_result"
    }
   ],
   "source": [
    "device = torch.device(\"cuda\" if torch.cuda.is_available() else \"cpu\")\n",
    "device"
   ]
  },
  {
   "cell_type": "code",
   "execution_count": 4,
   "metadata": {},
   "outputs": [
    {
     "data": {
      "text/plain": [
       "['test.wav']"
      ]
     },
     "execution_count": 4,
     "metadata": {},
     "output_type": "execute_result"
    }
   ],
   "source": [
    "os.listdir('data')"
   ]
  },
  {
   "cell_type": "code",
   "execution_count": 5,
   "metadata": {},
   "outputs": [],
   "source": [
    "waveform, sample_rate = torchaudio.load(\"data/sample.wav\")"
   ]
  },
  {
   "cell_type": "code",
   "execution_count": 6,
   "metadata": {},
   "outputs": [],
   "source": [
    "if sample_rate != 16000:\n",
    "    transform = T.Resample(orig_freq=sample_rate, new_freq=16000)\n",
    "    waveform = transform(waveform)\n",
    "    sample_rate = 16000"
   ]
  },
  {
   "cell_type": "code",
   "execution_count": 7,
   "metadata": {},
   "outputs": [
    {
     "data": {
      "text/plain": [
       "{'input_features': tensor([[[-1.2873, -1.2873, -1.2873,  ..., -1.2873, -1.2873, -1.2873],\n",
       "         [-1.2873, -1.2873, -1.2873,  ..., -1.2873, -1.2873, -1.2873],\n",
       "         [-1.2873, -1.2873, -1.2873,  ..., -1.2873, -1.2873, -1.2873],\n",
       "         ...,\n",
       "         [-1.2873, -1.2873, -1.2873,  ..., -1.2873, -1.2873, -1.2873],\n",
       "         [-1.2873, -1.2873, -1.2873,  ..., -1.2873, -1.2873, -1.2873],\n",
       "         [-1.2873, -1.2873, -1.2873,  ..., -1.2873, -1.2873, -1.2873]]])}"
      ]
     },
     "execution_count": 7,
     "metadata": {},
     "output_type": "execute_result"
    }
   ],
   "source": [
    "inputs = processor(waveform.squeeze().numpy(), sampling_rate=sample_rate, return_tensors=\"pt\", padding=True)\n",
    "inputs"
   ]
  },
  {
   "cell_type": "code",
   "execution_count": 8,
   "metadata": {},
   "outputs": [
    {
     "data": {
      "text/plain": [
       "tensor([[[-1.2873, -1.2873, -1.2873,  ..., -1.2873, -1.2873, -1.2873],\n",
       "         [-1.2873, -1.2873, -1.2873,  ..., -1.2873, -1.2873, -1.2873],\n",
       "         [-1.2873, -1.2873, -1.2873,  ..., -1.2873, -1.2873, -1.2873],\n",
       "         ...,\n",
       "         [-1.2873, -1.2873, -1.2873,  ..., -1.2873, -1.2873, -1.2873],\n",
       "         [-1.2873, -1.2873, -1.2873,  ..., -1.2873, -1.2873, -1.2873],\n",
       "         [-1.2873, -1.2873, -1.2873,  ..., -1.2873, -1.2873, -1.2873]]],\n",
       "       device='cuda:0')"
      ]
     },
     "execution_count": 8,
     "metadata": {},
     "output_type": "execute_result"
    }
   ],
   "source": [
    "input_features = inputs.input_features\n",
    "input_features.to(device)"
   ]
  },
  {
   "cell_type": "code",
   "execution_count": 9,
   "metadata": {},
   "outputs": [
    {
     "name": "stdout",
     "output_type": "stream",
     "text": [
      "torch.Size([1, 80, 330])\n"
     ]
    }
   ],
   "source": [
    "print(input_features.shape)"
   ]
  },
  {
   "cell_type": "code",
   "execution_count": 10,
   "metadata": {},
   "outputs": [
    {
     "name": "stdout",
     "output_type": "stream",
     "text": [
      "torch.Size([1, 80, 3000])\n"
     ]
    }
   ],
   "source": [
    "padding = torch.zeros(1, 80, 3000 - input_features.shape[2])\n",
    "input_features = torch.cat([input_features, padding], dim=2)\n",
    "print(input_features.shape)\n",
    "input_features = input_features.to(device)\n",
    "model = model.to(device)"
   ]
  },
  {
   "cell_type": "code",
   "execution_count": 12,
   "metadata": {},
   "outputs": [
    {
     "data": {
      "text/plain": [
       "tensor([[50258, 50259, 50359, 50363, 15694,   366,  1417,   538,   264,  2853,\n",
       "            13, 50257]], device='cuda:0')"
      ]
     },
     "execution_count": 12,
     "metadata": {},
     "output_type": "execute_result"
    }
   ],
   "source": [
    "generated_ids = model.generate(input_features, language='en')\n",
    "generated_ids"
   ]
  },
  {
   "cell_type": "code",
   "execution_count": 13,
   "metadata": {},
   "outputs": [
    {
     "data": {
      "text/plain": [
       "' Kids are talking by the door.'"
      ]
     },
     "execution_count": 13,
     "metadata": {},
     "output_type": "execute_result"
    }
   ],
   "source": [
    "transcription = processor.batch_decode(generated_ids, skip_special_tokens=True)[0]\n",
    "transcription"
   ]
  },
  {
   "cell_type": "code",
   "execution_count": null,
   "metadata": {},
   "outputs": [],
   "source": []
  }
 ],
 "metadata": {
  "kernelspec": {
   "display_name": "base",
   "language": "python",
   "name": "python3"
  },
  "language_info": {
   "codemirror_mode": {
    "name": "ipython",
    "version": 3
   },
   "file_extension": ".py",
   "mimetype": "text/x-python",
   "name": "python",
   "nbconvert_exporter": "python",
   "pygments_lexer": "ipython3",
   "version": "3.10.13"
  }
 },
 "nbformat": 4,
 "nbformat_minor": 2
}
