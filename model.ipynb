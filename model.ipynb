{
 "cells": [
  {
   "cell_type": "code",
   "execution_count": null,
   "metadata": {},
   "outputs": [],
   "source": [
    "import torch\n",
    "import pandas as pd\n",
    "import numpy as np\n",
    "import os\n",
    "import warnings\n",
    "import matplotlib.pyplot as plt\n",
    "\n",
    "from transformers import AutoTokenizer,AutoProcessor, AutoModelForSequenceClassification\n",
    "from datasets import load_dataset\n",
    "from tqdm import tqdm\n",
    "from torchvision import models\n",
    "from torchmetrics.classification import MultilabelF1Score"
   ]
  },
  {
   "cell_type": "code",
   "execution_count": null,
   "metadata": {},
   "outputs": [],
   "source": [
    "\n",
    "warnings.filterwarnings(\"ignore\")"
   ]
  },
  {
   "cell_type": "markdown",
   "metadata": {},
   "source": [
    "# Data Preprocessing"
   ]
  },
  {
   "cell_type": "code",
   "execution_count": null,
   "metadata": {},
   "outputs": [],
   "source": [
    "genres = [\"admiration\", \"amusement\", \"anger\", \"annoyance\", \"approval\", \n",
    "        \"caring\", \"confusion\",\"curiosity\", \"desire\", \"disappointment\", \n",
    "        \"disapproval\", \"disgust\", \"embarrassment\", \"excitement\", \"fear\", \n",
    "        \"gratitude\", \"grief\", \"joy\", \"love\", \"nervousness\", \"optimism\", \n",
    "        \"pride\", \"realization\", \"relief\", \"remorse\", \"sadness\", \"surprise\", \n",
    "        \"neutral\"]\n",
    "mapping = {}\n",
    "for i in range(len(genres)):\n",
    "    mapping[i] = genres[i]\n",
    "mapping"
   ]
  },
  {
   "cell_type": "code",
   "execution_count": null,
   "metadata": {},
   "outputs": [],
   "source": [
    "#none dataset found"
   ]
  },
  {
   "cell_type": "markdown",
   "metadata": {},
   "source": [
    "# Generate Text From Dataset"
   ]
  },
  {
   "cell_type": "code",
   "execution_count": null,
   "metadata": {},
   "outputs": [],
   "source": [
    "processor_gen_text = AutoProcessor.from_pretrained(\"openai/whisper-tiny\")\n",
    "model_gen_text = AutoModelForSpeechSeq2Seq.from_pretrained(\"openai/whisper-tiny\")"
   ]
  },
  {
   "cell_type": "code",
   "execution_count": null,
   "metadata": {},
   "outputs": [],
   "source": [
    "#use the model above to generate text for the input audio file using function\n",
    "def generate_text(df: df.DataFrame, model: AutoModelForSpeechSeq2Seq, processor: AutoProcessor, device) -> pd.DataFrame:\n",
    "    model_gen_text.to(device)\n",
    "    model_gen_text.eval()\n",
    "    \n",
    "    for i in tqdm(range(len(df))):\n",
    "        with torch.no_grad():\n",
    "            input_ids = processor(df.loc[i, \"audio\"], return_tensors=\"pt\").input_ids.to(device)\n",
    "            output = model_gen_text.generate(input_ids, max_length=100)\n",
    "            df.loc[i, 'text'] = processor.decode(output[0], skip_special_tokens=True)\n",
    "    return df"
   ]
  },
  {
   "cell_type": "code",
   "execution_count": null,
   "metadata": {},
   "outputs": [],
   "source": [
    "device = torch.device('cuda' if torch.cuda.is_available() else 'cpu')"
   ]
  },
  {
   "cell_type": "markdown",
   "metadata": {},
   "source": [
    "# Model Implementation"
   ]
  },
  {
   "cell_type": "markdown",
   "metadata": {},
   "source": [
    "### Sub-Model"
   ]
  },
  {
   "cell_type": "code",
   "execution_count": null,
   "metadata": {},
   "outputs": [],
   "source": [
    "tokenizer_text = AutoTokenizer.from_pretrained(\"joeddav/distilbert-base-uncased-go-emotions-student\")\n",
    "model_text = AutoModelForSequenceClassification.from_pretrained(\"joeddav/distilbert-base-uncased-go-emotions-student\")\n",
    "\n",
    "processor_speech = AutoProcessor.from_pretrained(\"pollner/distilhubert-finetuned-ravdess\")\n",
    "model_speech = AutoModelForAudioClassification.from_pretrained(\"pollner/distilhubert-finetuned-ravdess\")\n",
    "\n",
    "device = torch.device('cuda' if torch.cuda.is_available() else 'cpu')\n",
    "model_text.to(device)\n",
    "model_speech.to(device)\n",
    "device"
   ]
  },
  {
   "cell_type": "markdown",
   "metadata": {},
   "source": [
    "### DMAF"
   ]
  },
  {
   "cell_type": "code",
   "execution_count": null,
   "metadata": {},
   "outputs": [],
   "source": [
    "class Multimodel(torch.nn.Module):\n",
    "    def __init__(self, model_text, model_speech):\n",
    "        super().__init__()\n",
    "        self.model_text = model_text\n",
    "        self.model_speech = model_speech\n",
    "        self.fc1 = torch.nn.Linear(27, 27)\n",
    "        self.fc2 = torch.nn.Linear(27, 27)\n",
    "    \n",
    "    def forward(self, text_input_ids, text_attention_mask, speech_input_ids, speech_attention_mask):\n",
    "        text_output = self.model_text(text_input_ids, text_attention_mask)\n",
    "        speech_output = self.model_speech(speech_input_ids, speech_attention_mask)\n",
    "        \n",
    "        text_output = self.fc1(text_output.logits)\n",
    "        speech_output = self.fc2(speech_output.logits)\n",
    "        \n",
    "        x = torch.add(text_output, speech_output)\n",
    "        return x"
   ]
  },
  {
   "cell_type": "markdown",
   "metadata": {},
   "source": [
    "# Dataset and Dataloader"
   ]
  },
  {
   "cell_type": "code",
   "execution_count": null,
   "metadata": {},
   "outputs": [],
   "source": [
    "class Sunset(torch.utils.data.Dataset):\n",
    "    def __init__(self, df, \n",
    "                tokenizer_text, processor_speech, \n",
    "                max_len1=32, max_len2=32,\n",
    "                device = torch.device('cuda' if torch.cuda.is_available() else 'cpu')):\n",
    "        self.df = df\n",
    "        self.tokenizer_text = tokenizer_text\n",
    "        self.processor_speech = processor_speech\n",
    "        self.max_len1 = max_len1\n",
    "        self.max_len2 = max_len2\n",
    "        self.device = device\n",
    "    \n",
    "    def __len__(self):\n",
    "        return len(self.df)\n",
    "    \n",
    "    def __getitem__(self, idx):\n",
    "        text = self.df.loc[idx, \"text\"]\n",
    "        speech = self.df.loc[idx, \"audio\"]\n",
    "        \n",
    "        text = self.tokenizer_text(text, return_tensors=\"pt\", max_length=self.max_len1, padding=\"max_length\", truncation=True)\n",
    "        speech = self.processor_speech(speech, return_tensors=\"pt\", max_length=self.max_len2, padding=\"max_length\", truncation=True)\n",
    "        \n",
    "        text_input_ids = text.input_ids.to(self.device)\n",
    "        text_attention_mask = text.attention_mask.to(self.device)\n",
    "        speech_input_ids = speech.input_values.to(self.device)\n",
    "        speech_attention_mask = speech.attention_mask.to(self.device)\n",
    "        \n",
    "        return {\n",
    "            \"text_input_ids\": text_input_ids,\n",
    "            \"text_attention_mask\": text_attention_mask,\n",
    "            \"speech_input_ids\": speech_input_ids,\n",
    "            \"speech_attention_mask\": speech_attention_mask\n",
    "        }"
   ]
  },
  {
   "cell_type": "code",
   "execution_count": null,
   "metadata": {},
   "outputs": [],
   "source": [
    "#trainset = Sunset(df, tokenizer_text, processor_speech, device)\n",
    "#testset = Sunset(df, tokenizer_text, processor_speech, device)"
   ]
  },
  {
   "cell_type": "code",
   "execution_count": null,
   "metadata": {},
   "outputs": [],
   "source": [
    "#trainloader = torch.utils.data.DataLoader(trainset, batch_size=32, shuffle=True)\n",
    "#testloader = torch.utils.data.DataLoader(testset, batch_size=32, shuffle=False)"
   ]
  },
  {
   "cell_type": "markdown",
   "metadata": {},
   "source": [
    "# Train"
   ]
  },
  {
   "cell_type": "markdown",
   "metadata": {},
   "source": [
    "### GPU and Model"
   ]
  },
  {
   "cell_type": "code",
   "execution_count": null,
   "metadata": {},
   "outputs": [],
   "source": [
    "model = Multimodel(model_text, model_speech)\n",
    "model.to(device)\n",
    "device"
   ]
  },
  {
   "cell_type": "code",
   "execution_count": null,
   "metadata": {},
   "outputs": [],
   "source": [
    "def loss_fn(outputs, targets):\n",
    "    return torch.nn.BCEWithLogitsLoss()(outputs, targets)\n",
    "\n",
    "optimizer = torch.optim.Adam(params=model.parameters(), lr=2e-5)"
   ]
  },
  {
   "cell_type": "markdown",
   "metadata": {},
   "source": [
    "### Train and Validation"
   ]
  },
  {
   "cell_type": "code",
   "execution_count": null,
   "metadata": {},
   "outputs": [],
   "source": [
    "history_loss = []\n",
    "history_f1 = []\n",
    "def train(epoch):\n",
    "    model.train()\n",
    "    f1 = MultilabelF1Score(num_labels=18, threshold=0.5, average='macro')\n",
    "    f1.to(device)\n",
    "\n",
    "    actual = []\n",
    "    predicted = []\n",
    "    for _, data in tqdm(enumerate(trainloader, 0), total=len(trainloader)):\n",
    "        text_input_ids = data[\"text_input_ids\"]\n",
    "        text_attention_mask = data[\"text_attention_mask\"]\n",
    "        speech_input_ids = data[\"speech_input_ids\"]\n",
    "        speech_attention_mask = data[\"speech_attention_mask\"]\n",
    "        #emotion = data['emotion'].to(device)\n",
    "        \n",
    "        targets = torch.tensor([df.loc[i, genres].values for i in range(len(df))]).to(device)\n",
    "        \n",
    "        optimizer.zero_grad()\n",
    "        outputs = model(text_input_ids, text_attention_mask, speech_input_ids, speech_attention_mask)\n",
    "        \n",
    "        loss = loss_fn(outputs, emotion)\n",
    "        loss.backward()\n",
    "        optimizer.step()\n",
    "        \n",
    "        f1.update(outputs.sigmoid(), emotion)\n",
    "    \n",
    "    print(f'Epoch: {epoch}, Train Loss: {loss.item()}, Train F1: {f1.compute().item()}, Train MAP: {maps}, Train NDCG: {ndcg}')\n",
    "    history_loss.append(loss.item())\n",
    "    history_f1.append(f1.compute().item())"
   ]
  },
  {
   "cell_type": "code",
   "execution_count": null,
   "metadata": {},
   "outputs": [],
   "source": [
    "for epoch in range(16):\n",
    "    train(epoch)"
   ]
  },
  {
   "cell_type": "code",
   "execution_count": null,
   "metadata": {},
   "outputs": [],
   "source": [
    "torch.save(model.state_dict(), 'multimodel.pt')"
   ]
  },
  {
   "cell_type": "code",
   "execution_count": null,
   "metadata": {},
   "outputs": [],
   "source": [
    "plt.plot(history_loss)\n",
    "plt.plot(history_f1)\n",
    "plt.title('Model Loss')\n",
    "plt.ylabel('Loss')\n",
    "plt.xlabel('Epoch')\n",
    "plt.legend(['loss', 'F1-Macro'], loc='upper left')\n",
    "plt.show()"
   ]
  },
  {
   "cell_type": "code",
   "execution_count": null,
   "metadata": {},
   "outputs": [],
   "source": [
    "#Validation\n",
    "def test(testing_loader):\n",
    "    model.eval()\n",
    "    f1 = MultilabelF1Score(num_labels=18, threshold=0.5, average='macro')\n",
    "    f1.to(device)\n",
    "    \n",
    "    actual = []\n",
    "    predicted = []\n",
    "    for _, data in tqdm(enumerate(testing_loader, 0), total=len(testing_loader)):\n",
    "        text_input_ids = data[\"text_input_ids\"]\n",
    "        text_attention_mask = data[\"text_attention_mask\"]\n",
    "        speech_input_ids = data[\"speech_input_ids\"]\n",
    "        speech_attention_mask = data[\"speech_attention_mask\"]\n",
    "        emotion = data['emotion'].to(device)\n",
    "        \n",
    "        with torch.no_grad():\n",
    "            outputs = model(text_input_ids, text_attention_mask, speech_input_ids, speech_attention_mask)\n",
    "        \n",
    "        f1.update(outputs.sigmoid(), emotion)\n",
    "        \n",
    "    print(f'Test F1: {f1.compute().item()}')\n",
    "    return f1.compute().item()"
   ]
  }
 ],
 "metadata": {
  "kernelspec": {
   "display_name": "Python 3",
   "language": "python",
   "name": "python3"
  },
  "language_info": {
   "codemirror_mode": {
    "name": "ipython",
    "version": 3
   },
   "file_extension": ".py",
   "mimetype": "text/x-python",
   "name": "python",
   "nbconvert_exporter": "python",
   "pygments_lexer": "ipython3",
   "version": "0.0.0"
  }
 },
 "nbformat": 4,
 "nbformat_minor": 2
}
