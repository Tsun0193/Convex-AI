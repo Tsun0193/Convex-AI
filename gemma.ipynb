{
 "cells": [
  {
   "cell_type": "code",
   "execution_count": 1,
   "metadata": {},
   "outputs": [],
   "source": [
    "import torch\n",
    "import os\n",
    "import requests"
   ]
  },
  {
   "cell_type": "code",
   "execution_count": 19,
   "metadata": {},
   "outputs": [],
   "source": [
    "API_URL = 'https://api-inference.huggingface.co/models/google/gemma-2b-it'\n",
    "headers = {\"Authorization\": f\"Bearer {os.environ['API_TOKEN']}\"}\n",
    "\n",
    "def query(payload):\n",
    "\tresponse = requests.post(API_URL, headers=headers, json=payload)\n",
    "\treturn response.json()"
   ]
  },
  {
   "cell_type": "code",
   "execution_count": 20,
   "metadata": {},
   "outputs": [],
   "source": [
    "cache = {}"
   ]
  },
  {
   "cell_type": "code",
   "execution_count": 21,
   "metadata": {},
   "outputs": [],
   "source": [
    "def send(text: str, cache: dict = cache):\n",
    "    if len(cache) == 0:\n",
    "        payload = {\n",
    "            \"inputs\": f\"<bos><start_of_turn> user {text} <end_of_turn> <start_of_turn>model\"\n",
    "        }\n",
    "    else:\n",
    "        payload = {\n",
    "            \"inputs\": f\"<start_of_turn> user {text} <end_of_turn> <start_of_turn>model\",\n",
    "            \"context\": cache[\"context\"]\n",
    "        }\n",
    "    reply = query(payload)\n",
    "    id = reply[0][\"generated_text\"].find(\"<start_of_turn>model\")\n",
    "    return reply[0][\"generated_text\"][id + 20:]"
   ]
  },
  {
   "cell_type": "code",
   "execution_count": 22,
   "metadata": {},
   "outputs": [
    {
     "data": {
      "text/plain": [
       "\"Hello! 👋 It's a pleasure to hear from you. What can I do for you today?\""
      ]
     },
     "execution_count": 22,
     "metadata": {},
     "output_type": "execute_result"
    }
   ],
   "source": [
    "send(\"Hello\")"
   ]
  },
  {
   "cell_type": "code",
   "execution_count": 23,
   "metadata": {},
   "outputs": [
    {
     "data": {
      "text/plain": [
       "'I am doing well, thank you for asking! I am always here to assist you with your questions and requests. Is there anything I can help you with today?'"
      ]
     },
     "execution_count": 23,
     "metadata": {},
     "output_type": "execute_result"
    }
   ],
   "source": [
    "send(\"How are you?\")"
   ]
  },
  {
   "cell_type": "code",
   "execution_count": 24,
   "metadata": {},
   "outputs": [
    {
     "data": {
      "text/plain": [
       "'```python\\ndef fibonacci(n):\\n    \"\"\"\\n    Calculates the nth Fibonacci number.\\n\\n    Args:\\n        n: The index of the desired Fibonacci number.\\n\\n    Returns:\\n        The nth Fibonacci number.\\n    \"\"\"\\n\\n    if n == 0:\\n        return 0\\n    elif n == 1:\\n        return 1\\n    else:\\n        return fibonacci(n-1) + fibonacci(n-2)\\n\\n\\nif __name'"
      ]
     },
     "execution_count": 24,
     "metadata": {},
     "output_type": "execute_result"
    }
   ],
   "source": [
    "send(\"Give me a Python code to find n-th fibonacci number\")"
   ]
  },
  {
   "cell_type": "code",
   "execution_count": null,
   "metadata": {},
   "outputs": [],
   "source": []
  }
 ],
 "metadata": {
  "kernelspec": {
   "display_name": "convex",
   "language": "python",
   "name": "python3"
  },
  "language_info": {
   "codemirror_mode": {
    "name": "ipython",
    "version": 3
   },
   "file_extension": ".py",
   "mimetype": "text/x-python",
   "name": "python",
   "nbconvert_exporter": "python",
   "pygments_lexer": "ipython3",
   "version": "3.11.8"
  }
 },
 "nbformat": 4,
 "nbformat_minor": 2
}
